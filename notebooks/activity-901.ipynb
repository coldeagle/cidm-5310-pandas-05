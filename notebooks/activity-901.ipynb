{
 "cells": [
  {
   "cell_type": "code",
   "execution_count": 1,
   "metadata": {
    "collapsed": true
   },
   "outputs": [],
   "source": [
    "# Step 1\n",
    "import pandas as pd\n",
    "from sklearn.model_selection import train_test_split\n",
    "from sklearn.preprocessing import StandardScaler\n",
    "from sklearn.linear_model import LinearRegression as OLS\n",
    "from sklearn.metrics import mean_squared_error\n",
    "import numpy as np\n",
    "import helpers.activity_901_helper as helper\n"
   ]
  },
  {
   "cell_type": "code",
   "execution_count": 2,
   "metadata": {},
   "outputs": [
    {
     "name": "stdout",
     "output_type": "stream",
     "text": [
      "(9568, 5)\n"
     ]
    },
    {
     "data": {
      "text/plain": "      AT      V       AP     RH      EP\n0   8.34  40.77  1010.84  90.01  480.48\n1  23.64  58.49  1011.40  74.20  445.75\n2  29.74  56.90  1007.15  41.91  438.76\n3  19.07  49.69  1007.22  76.79  453.09\n4  11.80  40.66  1017.13  97.20  464.43",
      "text/html": "<div>\n<style scoped>\n    .dataframe tbody tr th:only-of-type {\n        vertical-align: middle;\n    }\n\n    .dataframe tbody tr th {\n        vertical-align: top;\n    }\n\n    .dataframe thead th {\n        text-align: right;\n    }\n</style>\n<table border=\"1\" class=\"dataframe\">\n  <thead>\n    <tr style=\"text-align: right;\">\n      <th></th>\n      <th>AT</th>\n      <th>V</th>\n      <th>AP</th>\n      <th>RH</th>\n      <th>EP</th>\n    </tr>\n  </thead>\n  <tbody>\n    <tr>\n      <th>0</th>\n      <td>8.34</td>\n      <td>40.77</td>\n      <td>1010.84</td>\n      <td>90.01</td>\n      <td>480.48</td>\n    </tr>\n    <tr>\n      <th>1</th>\n      <td>23.64</td>\n      <td>58.49</td>\n      <td>1011.40</td>\n      <td>74.20</td>\n      <td>445.75</td>\n    </tr>\n    <tr>\n      <th>2</th>\n      <td>29.74</td>\n      <td>56.90</td>\n      <td>1007.15</td>\n      <td>41.91</td>\n      <td>438.76</td>\n    </tr>\n    <tr>\n      <th>3</th>\n      <td>19.07</td>\n      <td>49.69</td>\n      <td>1007.22</td>\n      <td>76.79</td>\n      <td>453.09</td>\n    </tr>\n    <tr>\n      <th>4</th>\n      <td>11.80</td>\n      <td>40.66</td>\n      <td>1017.13</td>\n      <td>97.20</td>\n      <td>464.43</td>\n    </tr>\n  </tbody>\n</table>\n</div>"
     },
     "execution_count": 2,
     "metadata": {},
     "output_type": "execute_result"
    }
   ],
   "source": [
    "# Step 2\n",
    "power_data = pd.read_csv('../data/power_plant.csv')\n",
    "print(power_data.shape)\n",
    "power_data.head(5)"
   ]
  },
  {
   "cell_type": "code",
   "execution_count": 3,
   "metadata": {},
   "outputs": [
    {
     "name": "stdout",
     "output_type": "stream",
     "text": [
      "Train: (7654, 5)\n",
      "Value: (956, 5)\n",
      "Test: (958, 5)\n"
     ]
    }
   ],
   "source": [
    "# Step 3\n",
    "seed_int = 42\n",
    "train_f = 0.8\n",
    "val_f = 0.1\n",
    "test_f = 0.1\n",
    "\n",
    "labels = [\n",
    "    'Train',\n",
    "    'Value',\n",
    "    'Test',\n",
    "]\n",
    "\n",
    "rows = [helper.create_rand_series(index=list(power_data.index), raw_data=power_data, fraction=train_f, seed=seed_int)]\n",
    "rows.append(helper.create_rand_series(index=list(power_data.drop(rows[0], axis=0).index), raw_data=power_data, fraction=val_f, seed=seed_int))\n",
    "rows.append(pd.Series(power_data.drop(pd.concat(rows), axis=0).index))\n",
    "\n",
    "rand_data = [] # Rand\n",
    "for i in range(len(rows)):\n",
    "    rand_data.append(power_data.iloc[rows[i], :])\n",
    "    helper.print_shape(labels[i], rand_data[i].shape)\n"
   ]
  },
  {
   "cell_type": "code",
   "execution_count": 4,
   "metadata": {},
   "outputs": [
    {
     "name": "stdout",
     "output_type": "stream",
     "text": [
      "7654\n",
      "Train: (7654, 5)\n",
      "957\n",
      "Value: (957, 5)\n",
      "957\n",
      "Test: (957, 5)\n"
     ]
    }
   ],
   "source": [
    "# Step 4\n",
    "tts_data = [] # train test split data\n",
    "for split_data in train_test_split(power_data, train_size=train_f, random_state=seed_int):\n",
    "        tts_data.append(split_data)\n",
    "\n",
    "vd = tts_data[1] # grabbing the value data as it got processed this round\n",
    "tts_data.pop(1) # removing the extra value since we'll be changing it up after the next round\n",
    "\n",
    "for split_data in train_test_split(vd, train_size=.5, random_state=seed_int):\n",
    "\n",
    "    tts_data.append(split_data)\n",
    "\n",
    "for i in range(len(labels)):\n",
    "    print(len(tts_data[i]))\n",
    "    helper.print_shape(labels[i], tts_data[i].shape)"
   ]
  },
  {
   "cell_type": "code",
   "execution_count": 5,
   "metadata": {},
   "outputs": [
    {
     "name": "stdout",
     "output_type": "stream",
     "text": [
      "The values were equal!\n"
     ]
    }
   ],
   "source": [
    "# Step 5\n",
    "totals = [0,0]\n",
    "for i in range(len(rand_data)):\n",
    "    totals[0] += len(rand_data[i])\n",
    "    totals[1] += len(tts_data[i])\n",
    "\n",
    "if totals[0] != totals[1]:\n",
    "    raise Exception('The values were not equal!')\n",
    "else:\n",
    "    print('The values were equal!')\n"
   ]
  },
  {
   "cell_type": "code",
   "execution_count": 6,
   "metadata": {},
   "outputs": [],
   "source": [
    "# Step 6\n",
    "scaler = StandardScaler()\n",
    "scaler.fit(rand_data[0].iloc[:, :-1])\n",
    "scaler_data_x = []\n",
    "scaler_data_y = []\n",
    "for data in rand_data:\n",
    "    scaler_data_x.append(scaler.transform(data.iloc[:, :-1]))\n",
    "    scaler_data_y.append(data['EP'])\n"
   ]
  },
  {
   "cell_type": "code",
   "execution_count": 7,
   "outputs": [
    {
     "data": {
      "text/plain": "LinearRegression()",
      "text/html": "<style>#sk-container-id-1 {color: black;}#sk-container-id-1 pre{padding: 0;}#sk-container-id-1 div.sk-toggleable {background-color: white;}#sk-container-id-1 label.sk-toggleable__label {cursor: pointer;display: block;width: 100%;margin-bottom: 0;padding: 0.3em;box-sizing: border-box;text-align: center;}#sk-container-id-1 label.sk-toggleable__label-arrow:before {content: \"▸\";float: left;margin-right: 0.25em;color: #696969;}#sk-container-id-1 label.sk-toggleable__label-arrow:hover:before {color: black;}#sk-container-id-1 div.sk-estimator:hover label.sk-toggleable__label-arrow:before {color: black;}#sk-container-id-1 div.sk-toggleable__content {max-height: 0;max-width: 0;overflow: hidden;text-align: left;background-color: #f0f8ff;}#sk-container-id-1 div.sk-toggleable__content pre {margin: 0.2em;color: black;border-radius: 0.25em;background-color: #f0f8ff;}#sk-container-id-1 input.sk-toggleable__control:checked~div.sk-toggleable__content {max-height: 200px;max-width: 100%;overflow: auto;}#sk-container-id-1 input.sk-toggleable__control:checked~label.sk-toggleable__label-arrow:before {content: \"▾\";}#sk-container-id-1 div.sk-estimator input.sk-toggleable__control:checked~label.sk-toggleable__label {background-color: #d4ebff;}#sk-container-id-1 div.sk-label input.sk-toggleable__control:checked~label.sk-toggleable__label {background-color: #d4ebff;}#sk-container-id-1 input.sk-hidden--visually {border: 0;clip: rect(1px 1px 1px 1px);clip: rect(1px, 1px, 1px, 1px);height: 1px;margin: -1px;overflow: hidden;padding: 0;position: absolute;width: 1px;}#sk-container-id-1 div.sk-estimator {font-family: monospace;background-color: #f0f8ff;border: 1px dotted black;border-radius: 0.25em;box-sizing: border-box;margin-bottom: 0.5em;}#sk-container-id-1 div.sk-estimator:hover {background-color: #d4ebff;}#sk-container-id-1 div.sk-parallel-item::after {content: \"\";width: 100%;border-bottom: 1px solid gray;flex-grow: 1;}#sk-container-id-1 div.sk-label:hover label.sk-toggleable__label {background-color: #d4ebff;}#sk-container-id-1 div.sk-serial::before {content: \"\";position: absolute;border-left: 1px solid gray;box-sizing: border-box;top: 0;bottom: 0;left: 50%;z-index: 0;}#sk-container-id-1 div.sk-serial {display: flex;flex-direction: column;align-items: center;background-color: white;padding-right: 0.2em;padding-left: 0.2em;position: relative;}#sk-container-id-1 div.sk-item {position: relative;z-index: 1;}#sk-container-id-1 div.sk-parallel {display: flex;align-items: stretch;justify-content: center;background-color: white;position: relative;}#sk-container-id-1 div.sk-item::before, #sk-container-id-1 div.sk-parallel-item::before {content: \"\";position: absolute;border-left: 1px solid gray;box-sizing: border-box;top: 0;bottom: 0;left: 50%;z-index: -1;}#sk-container-id-1 div.sk-parallel-item {display: flex;flex-direction: column;z-index: 1;position: relative;background-color: white;}#sk-container-id-1 div.sk-parallel-item:first-child::after {align-self: flex-end;width: 50%;}#sk-container-id-1 div.sk-parallel-item:last-child::after {align-self: flex-start;width: 50%;}#sk-container-id-1 div.sk-parallel-item:only-child::after {width: 0;}#sk-container-id-1 div.sk-dashed-wrapped {border: 1px dashed gray;margin: 0 0.4em 0.5em 0.4em;box-sizing: border-box;padding-bottom: 0.4em;background-color: white;}#sk-container-id-1 div.sk-label label {font-family: monospace;font-weight: bold;display: inline-block;line-height: 1.2em;}#sk-container-id-1 div.sk-label-container {text-align: center;}#sk-container-id-1 div.sk-container {/* jupyter's `normalize.less` sets `[hidden] { display: none; }` but bootstrap.min.css set `[hidden] { display: none !important; }` so we also need the `!important` here to be able to override the default hidden behavior on the sphinx rendered scikit-learn.org. See: https://github.com/scikit-learn/scikit-learn/issues/21755 */display: inline-block !important;position: relative;}#sk-container-id-1 div.sk-text-repr-fallback {display: none;}</style><div id=\"sk-container-id-1\" class=\"sk-top-container\"><div class=\"sk-text-repr-fallback\"><pre>LinearRegression()</pre><b>In a Jupyter environment, please rerun this cell to show the HTML representation or trust the notebook. <br />On GitHub, the HTML representation is unable to render, please try loading this page with nbviewer.org.</b></div><div class=\"sk-container\" hidden><div class=\"sk-item\"><div class=\"sk-estimator sk-toggleable\"><input class=\"sk-toggleable__control sk-hidden--visually\" id=\"sk-estimator-id-1\" type=\"checkbox\" checked><label for=\"sk-estimator-id-1\" class=\"sk-toggleable__label sk-toggleable__label-arrow\">LinearRegression</label><div class=\"sk-toggleable__content\"><pre>LinearRegression()</pre></div></div></div></div></div>"
     },
     "execution_count": 7,
     "metadata": {},
     "output_type": "execute_result"
    }
   ],
   "source": [
    "# Step 7\n",
    "linear_model = OLS()\n",
    "linear_model.fit(scaler_data_x[0], scaler_data_y[0])"
   ],
   "metadata": {
    "collapsed": false
   }
  },
  {
   "cell_type": "code",
   "execution_count": 8,
   "outputs": [
    {
     "name": "stdout",
     "output_type": "stream",
     "text": [
      "Train Score: 0.9287072840354756\n",
      "Train RMSE: 20.732519659228682\n",
      "Value Score: 0.9242319850572253\n",
      "Value RMSE: 21.78122371621954\n",
      "Test Score: 0.9324697715061053\n",
      "Test RMSE: 20.060589209291425\n"
     ]
    }
   ],
   "source": [
    "# Step 8\n",
    "for i in range(len(scaler_data_x)):\n",
    "    sx = scaler_data_x[i]\n",
    "    sy = scaler_data_y[i]\n",
    "    print(f'{labels[i]} Score: {linear_model.score(sx, sy)}')\n",
    "    print(f'{labels[i]} RMSE: {mean_squared_error(linear_model.predict(sx), sy)}')"
   ],
   "metadata": {
    "collapsed": false
   }
  }
 ],
 "metadata": {
  "kernelspec": {
   "display_name": "Python 3 (ipykernel)",
   "language": "python",
   "name": "python3"
  },
  "language_info": {
   "codemirror_mode": {
    "name": "ipython",
    "version": 3
   },
   "file_extension": ".py",
   "mimetype": "text/x-python",
   "name": "python",
   "nbconvert_exporter": "python",
   "pygments_lexer": "ipython3",
   "version": "3.10.6"
  }
 },
 "nbformat": 4,
 "nbformat_minor": 1
}
